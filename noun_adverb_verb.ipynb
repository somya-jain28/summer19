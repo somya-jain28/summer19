{
  "nbformat": 4,
  "nbformat_minor": 0,
  "metadata": {
    "colab": {
      "name": "noun_adverb_verb.ipynb",
      "version": "0.3.2",
      "provenance": []
    },
    "kernelspec": {
      "name": "python3",
      "display_name": "Python 3"
    }
  },
  "cells": [
    {
      "cell_type": "code",
      "metadata": {
        "id": "xG9XHws5H9vH",
        "colab_type": "code",
        "colab": {}
      },
      "source": [
        "#!pip3 install spacy"
      ],
      "execution_count": 0,
      "outputs": []
    },
    {
      "cell_type": "code",
      "metadata": {
        "id": "hTNz2GNyIETh",
        "colab_type": "code",
        "colab": {}
      },
      "source": [
        "import spacy\n",
        "import time"
      ],
      "execution_count": 0,
      "outputs": []
    },
    {
      "cell_type": "code",
      "metadata": {
        "id": "PQE0gE0MIOLM",
        "colab_type": "code",
        "colab": {}
      },
      "source": [
        "nlp=spacy.load('en')   # this will use nltk_data folder to load library"
      ],
      "execution_count": 0,
      "outputs": []
    },
    {
      "cell_type": "code",
      "metadata": {
        "id": "SSZPQ4KdIXM_",
        "colab_type": "code",
        "colab": {}
      },
      "source": [
        "data=\"i m doing great sometimes then i use feet to do know\""
      ],
      "execution_count": 0,
      "outputs": []
    },
    {
      "cell_type": "code",
      "metadata": {
        "id": "tuejlW9fIi2r",
        "colab_type": "code",
        "colab": {}
      },
      "source": [
        "# appling nlp   ----- means tokenizing itself\n",
        "process_data=nlp(data)"
      ],
      "execution_count": 0,
      "outputs": []
    },
    {
      "cell_type": "code",
      "metadata": {
        "id": "WaqT8RJLIuyC",
        "colab_type": "code",
        "outputId": "5cb7cd83-d9d9-44ba-ac23-5c3af1cd3eef",
        "colab": {
          "base_uri": "https://localhost:8080/",
          "height": 420
        }
      },
      "source": [
        "# now checking lambda and part of speech \n",
        "for i in process_data:\n",
        "  print(i,\"--finding lemma-->\",i.lemma_)\n",
        "  time.sleep(2)\n",
        "  print(\"pos of words is  \",i.pos_)\n",
        "  "
      ],
      "execution_count": 0,
      "outputs": [
        {
          "output_type": "stream",
          "text": [
            "i --finding lemma--> i\n",
            "pos of words is   PRON\n",
            "m --finding lemma--> m\n",
            "pos of words is   VERB\n",
            "doing --finding lemma--> do\n",
            "pos of words is   VERB\n",
            "great --finding lemma--> great\n",
            "pos of words is   ADJ\n",
            "sometimes --finding lemma--> sometimes\n",
            "pos of words is   ADV\n",
            "then --finding lemma--> then\n",
            "pos of words is   ADV\n",
            "i --finding lemma--> i\n",
            "pos of words is   PRON\n",
            "use --finding lemma--> use\n",
            "pos of words is   VERB\n",
            "feet --finding lemma--> foot\n",
            "pos of words is   NOUN\n",
            "to --finding lemma--> to\n",
            "pos of words is   PART\n",
            "do --finding lemma--> do\n",
            "pos of words is   VERB\n",
            "know --finding lemma--> know\n",
            "pos of words is   VERB\n"
          ],
          "name": "stdout"
        }
      ]
    },
    {
      "cell_type": "code",
      "metadata": {
        "id": "aK9a37aaJMKT",
        "colab_type": "code",
        "colab": {}
      },
      "source": [
        "verbss=[]\n",
        "adverbss=[]\n",
        "nounss=[]\n",
        "for i in process_data:\n",
        "  if i.pos_=='VERB' :\n",
        "    verbss.append(i)\n",
        "  elif i.pos=='ADV':\n",
        "    adverbss.append(i)\n",
        "  elif i.pos=='NOUN':\n",
        "    nounss.append(i)\n",
        "  "
      ],
      "execution_count": 0,
      "outputs": []
    },
    {
      "cell_type": "code",
      "metadata": {
        "id": "prOUj1I7E7Eh",
        "colab_type": "code",
        "outputId": "7c31a24e-2cfb-4ecf-bfe9-8f085d5b0ed4",
        "colab": {
          "base_uri": "https://localhost:8080/",
          "height": 135
        }
      },
      "source": [
        " if i.pos_=='VERB' :\n",
        "    verbss.append(i.pos_)\n",
        "  elif i.pos=='ADV':\n",
        "    adverbss.append(i.pos_)\n",
        "  elif i.pos=='NOUN':\n",
        "    nounss.append(i.pos_)"
      ],
      "execution_count": 0,
      "outputs": [
        {
          "output_type": "error",
          "ename": "IndentationError",
          "evalue": "ignored",
          "traceback": [
            "\u001b[0;36m  File \u001b[0;32m\"<ipython-input-8-f37d74b9fc87>\"\u001b[0;36m, line \u001b[0;32m3\u001b[0m\n\u001b[0;31m    elif i.pos=='ADV':\u001b[0m\n\u001b[0m                      ^\u001b[0m\n\u001b[0;31mIndentationError\u001b[0m\u001b[0;31m:\u001b[0m unindent does not match any outer indentation level\n"
          ]
        }
      ]
    },
    {
      "cell_type": "code",
      "metadata": {
        "id": "eWKZpa-88oPp",
        "colab_type": "code",
        "outputId": "bbde8b66-eddb-4228-a550-ba56e763a172",
        "colab": {
          "base_uri": "https://localhost:8080/",
          "height": 35
        }
      },
      "source": [
        "print(verbss)\n"
      ],
      "execution_count": 0,
      "outputs": [
        {
          "output_type": "stream",
          "text": [
            "[m, doing, use, do, know]\n"
          ],
          "name": "stdout"
        }
      ]
    },
    {
      "cell_type": "code",
      "metadata": {
        "id": "oF3AAofOAvZr",
        "colab_type": "code",
        "colab": {}
      },
      "source": [
        ""
      ],
      "execution_count": 0,
      "outputs": []
    }
  ]
}